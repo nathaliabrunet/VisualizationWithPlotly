{
 "cells": [
  {
   "cell_type": "markdown",
   "metadata": {},
   "source": [
    "## Plotly por horário do dia\n",
    "#### ---------------------------------------------------------------------------------------------------------------------------------------------------------"
   ]
  },
  {
   "cell_type": "markdown",
   "metadata": {},
   "source": [
    "##### imports"
   ]
  },
  {
   "cell_type": "code",
   "execution_count": 92,
   "metadata": {},
   "outputs": [],
   "source": [
    "import pandas as pd\n",
    "import random\n",
    "import plotly.graph_objects as go"
   ]
  },
  {
   "cell_type": "markdown",
   "metadata": {},
   "source": [
    "##### Carregando excel com horários do dia"
   ]
  },
  {
   "cell_type": "code",
   "execution_count": 93,
   "metadata": {},
   "outputs": [],
   "source": [
    "df = pd.read_excel('dcalendariotime.xlsx')"
   ]
  },
  {
   "cell_type": "markdown",
   "metadata": {},
   "source": [
    "##### Gerando lista aleatória com o shape do excel e criando coluna \"valor\" no dataframe"
   ]
  },
  {
   "cell_type": "code",
   "execution_count": null,
   "metadata": {},
   "outputs": [],
   "source": [
    "lista_aleatoria = list(range(0,df.shape[0]))\n",
    "random.shuffle(lista_aleatoria)\n",
    "\n",
    "df['valor'] = lista_aleatoria"
   ]
  },
  {
   "cell_type": "markdown",
   "metadata": {},
   "source": [
    "##### Função"
   ]
  },
  {
   "cell_type": "code",
   "execution_count": 303,
   "metadata": {},
   "outputs": [],
   "source": [
    "def plot_no_dia(dataframe, num_amostras):\n",
    "    '''\n",
    "    função para plot por horário do dia\n",
    "    input: dataframe \n",
    "           num_amostras (porque o dataframe é grande e se plotar todo pode não carregar)\n",
    "    output: gráfico por horário do dia\n",
    "    '''\n",
    "    \n",
    "    df_plot = df[:num_amostras]\n",
    "    fig = go.Figure(\n",
    "        data=[\n",
    "            go.Scatter(\n",
    "                #name=\"Porcentage intersection\",\n",
    "                x= df_plot.sort_values(by = 'Time').reset_index()['Time'].astype(str),\n",
    "                y= df_plot.sort_values(by = 'Time').reset_index()['valor'],\n",
    "                mode=\"lines+text\",\n",
    "                name=\"Lines and Text\",\n",
    "                text = '',#df.query('DriverIdentifier == 939322 and dia_mes == 18').sort_values(by = 'time').reset_index()['nivel_opt'],\n",
    "                textposition=\"top center\",\n",
    "                marker_color='Black'\n",
    "            ),\n",
    "        ],\n",
    "        layout=go.Layout(\n",
    "            title='Plot por horário do dia',\n",
    "            xaxis_title='Horário do dia',\n",
    "            yaxis_title='Valores aleatórios'\n",
    "\n",
    "\n",
    "\n",
    "            )\n",
    "    )\n",
    "    #Adicicionando linha vertical na amostra índice = 30\n",
    "    fig.add_vline(x = df_plot.iloc[30]['Time'],\n",
    "                      line_width = 2, \n",
    "                      #line_dash  =\"dash\", \n",
    "                      line_color='blue') \n",
    "\n",
    "    #Adicicionando linha média dos valores\n",
    "    fig.add_hline(y = df_plot.valor.mean(), #linha média horizontal\n",
    "                      line_width = 2, \n",
    "                      line_dash  =\"dash\", \n",
    "                      line_color='red')\n",
    "    \n",
    "    #Fig annotation no encontro da linha média (horizontal) com a linha vertical\n",
    "    fig.add_annotation(x=df_plot.iloc[30]['Time'],\n",
    "                       y=df_plot.valor.mean(),\n",
    "                       \n",
    "                       text=\"Cruzamento\",\n",
    "                       #Fonte do texto\n",
    "                       font=dict(family=\"sans serif\",\n",
    "                                 size=14,\n",
    "                                 color=\"white\"),\n",
    "                       textangle = -45, #angulação para o texto.\n",
    "                       \n",
    "                       #Caixa onde fica o texto\n",
    "                       height = None, #Altura da caixa. None se adapta ao tamanho da palavra\n",
    "                       width = None, #largura da caixa. \n",
    "                       #Obs. Se tiver um texto com fonte muito grande, essa altura tem que aumentar, senão não cabe na caixa\n",
    "                       bgcolor = 'black',  #cor do caixa \n",
    "                       bordercolor = 'yellow', # cor da borda da caixa\n",
    "                       borderwidth = 1, #largura da borda da caixa \n",
    "                                    \n",
    "                       #Flecha\n",
    "                       showarrow=True, #incluir seta na visualização\n",
    "                       yanchor=\"auto\",  #loc de onde começa o texto. Opções: ['auto', 'left', 'center', 'right']\n",
    "                       #xshift=10, #yshift=50\n",
    "                       #pacity=0.7,\n",
    "                       arrowcolor=\"purple\", #cor da flecha\n",
    "                       arrowsize=3,\n",
    "                       arrowwidth=1,\n",
    "                       arrowhead=3,\n",
    "                       \n",
    "                       #Captura de eventos\n",
    "                       captureevents = True, #captura evento passando o mouse em cima ou clicando\n",
    "                       hovertext = 'Texto que aparece quando passa o mouse em cima', #Texto que aparece quando passa o mouse em cima\n",
    "                       clicktoshow = 'onoff', #[False, 'onoff', 'onout']\n",
    "                       xclick = True,\n",
    "\n",
    "                       #standoff = True,\n",
    "                       #startarrowhead = 8,\n",
    "                       #startarrowsize = 8,\n",
    "                       #startstandoff = True,\n",
    "        \n",
    "                      )\n",
    "        \n",
    "    fig.update_layout(xaxis_tickangle=-45)\n",
    "\n",
    "    fig.show()"
   ]
  },
  {
   "cell_type": "markdown",
   "metadata": {},
   "source": [
    "##### Chamando função"
   ]
  },
  {
   "cell_type": "code",
   "execution_count": 304,
   "metadata": {},
   "outputs": [
    {
     "data": {
      "application/vnd.plotly.v1+json": {
       "config": {
        "plotlyServerURL": "https://plot.ly"
       },
       "data": [
        {
         "marker": {
          "color": "Black"
         },
         "mode": "lines+text",
         "name": "Lines and Text",
         "text": "",
         "textposition": "top center",
         "type": "scatter",
         "x": [
          "00:00:00",
          "00:00:01",
          "00:00:02",
          "00:00:03",
          "00:00:04",
          "00:00:05",
          "00:00:06",
          "00:00:07",
          "00:00:08",
          "00:00:09",
          "00:00:10",
          "00:00:11",
          "00:00:12",
          "00:00:13",
          "00:00:14",
          "00:00:15",
          "00:00:16",
          "00:00:17",
          "00:00:18",
          "00:00:19",
          "00:00:20",
          "00:00:21",
          "00:00:22",
          "00:00:23",
          "00:00:24",
          "00:00:25",
          "00:00:26",
          "00:00:27",
          "00:00:28",
          "00:00:29",
          "00:00:30",
          "00:00:31",
          "00:00:32",
          "00:00:33",
          "00:00:34",
          "00:00:35",
          "00:00:36",
          "00:00:37",
          "00:00:38",
          "00:00:39",
          "00:00:40",
          "00:00:41",
          "00:00:42",
          "00:00:43",
          "00:00:44",
          "00:00:45",
          "00:00:46",
          "00:00:47",
          "00:00:48",
          "00:00:49",
          "00:00:50",
          "00:00:51",
          "00:00:52",
          "00:00:53",
          "00:00:54",
          "00:00:55",
          "00:00:56",
          "00:00:57",
          "00:00:58",
          "00:00:59",
          "00:01:00",
          "00:01:01",
          "00:01:02",
          "00:01:03",
          "00:01:04",
          "00:01:05",
          "00:01:06",
          "00:01:07",
          "00:01:08",
          "00:01:09",
          "00:01:10",
          "00:01:11",
          "00:01:12",
          "00:01:13",
          "00:01:14",
          "00:01:15",
          "00:01:16",
          "00:01:17",
          "00:01:18",
          "00:01:19",
          "00:01:20",
          "00:01:21",
          "00:01:22",
          "00:01:23",
          "00:01:24",
          "00:01:25",
          "00:01:26",
          "00:01:27",
          "00:01:28",
          "00:01:29",
          "00:01:30",
          "00:01:31",
          "00:01:32",
          "00:01:33",
          "00:01:34",
          "00:01:35",
          "00:01:36",
          "00:01:37",
          "00:01:38",
          "00:01:39"
         ],
         "y": [
          41767,
          61857,
          10236,
          53337,
          44930,
          37825,
          30665,
          71888,
          1694,
          11878,
          72659,
          21984,
          34056,
          54403,
          34554,
          82741,
          74146,
          24803,
          1782,
          85318,
          5938,
          63610,
          46474,
          42493,
          36790,
          22770,
          26351,
          28382,
          47977,
          12114,
          11638,
          73741,
          86183,
          8487,
          37999,
          32432,
          41282,
          84165,
          16998,
          41532,
          55082,
          71323,
          58453,
          54081,
          64600,
          2175,
          46947,
          44358,
          86126,
          41130,
          47354,
          49978,
          57166,
          82673,
          39622,
          78254,
          34374,
          64334,
          71183,
          71496,
          63517,
          73023,
          73647,
          43673,
          29089,
          10044,
          54165,
          56451,
          66225,
          82018,
          14032,
          32970,
          22707,
          50130,
          13422,
          64645,
          25291,
          28332,
          73022,
          64390,
          20196,
          75648,
          80923,
          30477,
          42024,
          67345,
          70082,
          49411,
          46485,
          57573,
          56151,
          74405,
          22552,
          55320,
          19338,
          37790,
          8088,
          48167,
          40833,
          57584
         ]
        }
       ],
       "layout": {
        "annotations": [
         {
          "arrowcolor": "purple",
          "arrowhead": 3,
          "arrowsize": 3,
          "arrowwidth": 1,
          "bgcolor": "black",
          "bordercolor": "yellow",
          "borderwidth": 1,
          "captureevents": true,
          "clicktoshow": "onoff",
          "font": {
           "color": "white",
           "family": "sans serif",
           "size": 14
          },
          "hovertext": "Texto que aparece quando passa o mouse em cima",
          "showarrow": true,
          "text": "Cruzamento",
          "textangle": -45,
          "x": "00:00:30",
          "xclick": true,
          "y": 46417.73,
          "yanchor": "auto"
         }
        ],
        "shapes": [
         {
          "line": {
           "color": "blue",
           "width": 2
          },
          "type": "line",
          "x0": "00:00:30",
          "x1": "00:00:30",
          "xref": "x",
          "y0": 0,
          "y1": 1,
          "yref": "y domain"
         },
         {
          "line": {
           "color": "red",
           "dash": "dash",
           "width": 2
          },
          "type": "line",
          "x0": 0,
          "x1": 1,
          "xref": "x domain",
          "y0": 46417.73,
          "y1": 46417.73,
          "yref": "y"
         }
        ],
        "template": {
         "data": {
          "bar": [
           {
            "error_x": {
             "color": "#2a3f5f"
            },
            "error_y": {
             "color": "#2a3f5f"
            },
            "marker": {
             "line": {
              "color": "#E5ECF6",
              "width": 0.5
             }
            },
            "type": "bar"
           }
          ],
          "barpolar": [
           {
            "marker": {
             "line": {
              "color": "#E5ECF6",
              "width": 0.5
             }
            },
            "type": "barpolar"
           }
          ],
          "carpet": [
           {
            "aaxis": {
             "endlinecolor": "#2a3f5f",
             "gridcolor": "white",
             "linecolor": "white",
             "minorgridcolor": "white",
             "startlinecolor": "#2a3f5f"
            },
            "baxis": {
             "endlinecolor": "#2a3f5f",
             "gridcolor": "white",
             "linecolor": "white",
             "minorgridcolor": "white",
             "startlinecolor": "#2a3f5f"
            },
            "type": "carpet"
           }
          ],
          "choropleth": [
           {
            "colorbar": {
             "outlinewidth": 0,
             "ticks": ""
            },
            "type": "choropleth"
           }
          ],
          "contour": [
           {
            "colorbar": {
             "outlinewidth": 0,
             "ticks": ""
            },
            "colorscale": [
             [
              0,
              "#0d0887"
             ],
             [
              0.1111111111111111,
              "#46039f"
             ],
             [
              0.2222222222222222,
              "#7201a8"
             ],
             [
              0.3333333333333333,
              "#9c179e"
             ],
             [
              0.4444444444444444,
              "#bd3786"
             ],
             [
              0.5555555555555556,
              "#d8576b"
             ],
             [
              0.6666666666666666,
              "#ed7953"
             ],
             [
              0.7777777777777778,
              "#fb9f3a"
             ],
             [
              0.8888888888888888,
              "#fdca26"
             ],
             [
              1,
              "#f0f921"
             ]
            ],
            "type": "contour"
           }
          ],
          "contourcarpet": [
           {
            "colorbar": {
             "outlinewidth": 0,
             "ticks": ""
            },
            "type": "contourcarpet"
           }
          ],
          "heatmap": [
           {
            "colorbar": {
             "outlinewidth": 0,
             "ticks": ""
            },
            "colorscale": [
             [
              0,
              "#0d0887"
             ],
             [
              0.1111111111111111,
              "#46039f"
             ],
             [
              0.2222222222222222,
              "#7201a8"
             ],
             [
              0.3333333333333333,
              "#9c179e"
             ],
             [
              0.4444444444444444,
              "#bd3786"
             ],
             [
              0.5555555555555556,
              "#d8576b"
             ],
             [
              0.6666666666666666,
              "#ed7953"
             ],
             [
              0.7777777777777778,
              "#fb9f3a"
             ],
             [
              0.8888888888888888,
              "#fdca26"
             ],
             [
              1,
              "#f0f921"
             ]
            ],
            "type": "heatmap"
           }
          ],
          "heatmapgl": [
           {
            "colorbar": {
             "outlinewidth": 0,
             "ticks": ""
            },
            "colorscale": [
             [
              0,
              "#0d0887"
             ],
             [
              0.1111111111111111,
              "#46039f"
             ],
             [
              0.2222222222222222,
              "#7201a8"
             ],
             [
              0.3333333333333333,
              "#9c179e"
             ],
             [
              0.4444444444444444,
              "#bd3786"
             ],
             [
              0.5555555555555556,
              "#d8576b"
             ],
             [
              0.6666666666666666,
              "#ed7953"
             ],
             [
              0.7777777777777778,
              "#fb9f3a"
             ],
             [
              0.8888888888888888,
              "#fdca26"
             ],
             [
              1,
              "#f0f921"
             ]
            ],
            "type": "heatmapgl"
           }
          ],
          "histogram": [
           {
            "marker": {
             "colorbar": {
              "outlinewidth": 0,
              "ticks": ""
             }
            },
            "type": "histogram"
           }
          ],
          "histogram2d": [
           {
            "colorbar": {
             "outlinewidth": 0,
             "ticks": ""
            },
            "colorscale": [
             [
              0,
              "#0d0887"
             ],
             [
              0.1111111111111111,
              "#46039f"
             ],
             [
              0.2222222222222222,
              "#7201a8"
             ],
             [
              0.3333333333333333,
              "#9c179e"
             ],
             [
              0.4444444444444444,
              "#bd3786"
             ],
             [
              0.5555555555555556,
              "#d8576b"
             ],
             [
              0.6666666666666666,
              "#ed7953"
             ],
             [
              0.7777777777777778,
              "#fb9f3a"
             ],
             [
              0.8888888888888888,
              "#fdca26"
             ],
             [
              1,
              "#f0f921"
             ]
            ],
            "type": "histogram2d"
           }
          ],
          "histogram2dcontour": [
           {
            "colorbar": {
             "outlinewidth": 0,
             "ticks": ""
            },
            "colorscale": [
             [
              0,
              "#0d0887"
             ],
             [
              0.1111111111111111,
              "#46039f"
             ],
             [
              0.2222222222222222,
              "#7201a8"
             ],
             [
              0.3333333333333333,
              "#9c179e"
             ],
             [
              0.4444444444444444,
              "#bd3786"
             ],
             [
              0.5555555555555556,
              "#d8576b"
             ],
             [
              0.6666666666666666,
              "#ed7953"
             ],
             [
              0.7777777777777778,
              "#fb9f3a"
             ],
             [
              0.8888888888888888,
              "#fdca26"
             ],
             [
              1,
              "#f0f921"
             ]
            ],
            "type": "histogram2dcontour"
           }
          ],
          "mesh3d": [
           {
            "colorbar": {
             "outlinewidth": 0,
             "ticks": ""
            },
            "type": "mesh3d"
           }
          ],
          "parcoords": [
           {
            "line": {
             "colorbar": {
              "outlinewidth": 0,
              "ticks": ""
             }
            },
            "type": "parcoords"
           }
          ],
          "pie": [
           {
            "automargin": true,
            "type": "pie"
           }
          ],
          "scatter": [
           {
            "marker": {
             "colorbar": {
              "outlinewidth": 0,
              "ticks": ""
             }
            },
            "type": "scatter"
           }
          ],
          "scatter3d": [
           {
            "line": {
             "colorbar": {
              "outlinewidth": 0,
              "ticks": ""
             }
            },
            "marker": {
             "colorbar": {
              "outlinewidth": 0,
              "ticks": ""
             }
            },
            "type": "scatter3d"
           }
          ],
          "scattercarpet": [
           {
            "marker": {
             "colorbar": {
              "outlinewidth": 0,
              "ticks": ""
             }
            },
            "type": "scattercarpet"
           }
          ],
          "scattergeo": [
           {
            "marker": {
             "colorbar": {
              "outlinewidth": 0,
              "ticks": ""
             }
            },
            "type": "scattergeo"
           }
          ],
          "scattergl": [
           {
            "marker": {
             "colorbar": {
              "outlinewidth": 0,
              "ticks": ""
             }
            },
            "type": "scattergl"
           }
          ],
          "scattermapbox": [
           {
            "marker": {
             "colorbar": {
              "outlinewidth": 0,
              "ticks": ""
             }
            },
            "type": "scattermapbox"
           }
          ],
          "scatterpolar": [
           {
            "marker": {
             "colorbar": {
              "outlinewidth": 0,
              "ticks": ""
             }
            },
            "type": "scatterpolar"
           }
          ],
          "scatterpolargl": [
           {
            "marker": {
             "colorbar": {
              "outlinewidth": 0,
              "ticks": ""
             }
            },
            "type": "scatterpolargl"
           }
          ],
          "scatterternary": [
           {
            "marker": {
             "colorbar": {
              "outlinewidth": 0,
              "ticks": ""
             }
            },
            "type": "scatterternary"
           }
          ],
          "surface": [
           {
            "colorbar": {
             "outlinewidth": 0,
             "ticks": ""
            },
            "colorscale": [
             [
              0,
              "#0d0887"
             ],
             [
              0.1111111111111111,
              "#46039f"
             ],
             [
              0.2222222222222222,
              "#7201a8"
             ],
             [
              0.3333333333333333,
              "#9c179e"
             ],
             [
              0.4444444444444444,
              "#bd3786"
             ],
             [
              0.5555555555555556,
              "#d8576b"
             ],
             [
              0.6666666666666666,
              "#ed7953"
             ],
             [
              0.7777777777777778,
              "#fb9f3a"
             ],
             [
              0.8888888888888888,
              "#fdca26"
             ],
             [
              1,
              "#f0f921"
             ]
            ],
            "type": "surface"
           }
          ],
          "table": [
           {
            "cells": {
             "fill": {
              "color": "#EBF0F8"
             },
             "line": {
              "color": "white"
             }
            },
            "header": {
             "fill": {
              "color": "#C8D4E3"
             },
             "line": {
              "color": "white"
             }
            },
            "type": "table"
           }
          ]
         },
         "layout": {
          "annotationdefaults": {
           "arrowcolor": "#2a3f5f",
           "arrowhead": 0,
           "arrowwidth": 1
          },
          "autotypenumbers": "strict",
          "coloraxis": {
           "colorbar": {
            "outlinewidth": 0,
            "ticks": ""
           }
          },
          "colorscale": {
           "diverging": [
            [
             0,
             "#8e0152"
            ],
            [
             0.1,
             "#c51b7d"
            ],
            [
             0.2,
             "#de77ae"
            ],
            [
             0.3,
             "#f1b6da"
            ],
            [
             0.4,
             "#fde0ef"
            ],
            [
             0.5,
             "#f7f7f7"
            ],
            [
             0.6,
             "#e6f5d0"
            ],
            [
             0.7,
             "#b8e186"
            ],
            [
             0.8,
             "#7fbc41"
            ],
            [
             0.9,
             "#4d9221"
            ],
            [
             1,
             "#276419"
            ]
           ],
           "sequential": [
            [
             0,
             "#0d0887"
            ],
            [
             0.1111111111111111,
             "#46039f"
            ],
            [
             0.2222222222222222,
             "#7201a8"
            ],
            [
             0.3333333333333333,
             "#9c179e"
            ],
            [
             0.4444444444444444,
             "#bd3786"
            ],
            [
             0.5555555555555556,
             "#d8576b"
            ],
            [
             0.6666666666666666,
             "#ed7953"
            ],
            [
             0.7777777777777778,
             "#fb9f3a"
            ],
            [
             0.8888888888888888,
             "#fdca26"
            ],
            [
             1,
             "#f0f921"
            ]
           ],
           "sequentialminus": [
            [
             0,
             "#0d0887"
            ],
            [
             0.1111111111111111,
             "#46039f"
            ],
            [
             0.2222222222222222,
             "#7201a8"
            ],
            [
             0.3333333333333333,
             "#9c179e"
            ],
            [
             0.4444444444444444,
             "#bd3786"
            ],
            [
             0.5555555555555556,
             "#d8576b"
            ],
            [
             0.6666666666666666,
             "#ed7953"
            ],
            [
             0.7777777777777778,
             "#fb9f3a"
            ],
            [
             0.8888888888888888,
             "#fdca26"
            ],
            [
             1,
             "#f0f921"
            ]
           ]
          },
          "colorway": [
           "#636efa",
           "#EF553B",
           "#00cc96",
           "#ab63fa",
           "#FFA15A",
           "#19d3f3",
           "#FF6692",
           "#B6E880",
           "#FF97FF",
           "#FECB52"
          ],
          "font": {
           "color": "#2a3f5f"
          },
          "geo": {
           "bgcolor": "white",
           "lakecolor": "white",
           "landcolor": "#E5ECF6",
           "showlakes": true,
           "showland": true,
           "subunitcolor": "white"
          },
          "hoverlabel": {
           "align": "left"
          },
          "hovermode": "closest",
          "mapbox": {
           "style": "light"
          },
          "paper_bgcolor": "white",
          "plot_bgcolor": "#E5ECF6",
          "polar": {
           "angularaxis": {
            "gridcolor": "white",
            "linecolor": "white",
            "ticks": ""
           },
           "bgcolor": "#E5ECF6",
           "radialaxis": {
            "gridcolor": "white",
            "linecolor": "white",
            "ticks": ""
           }
          },
          "scene": {
           "xaxis": {
            "backgroundcolor": "#E5ECF6",
            "gridcolor": "white",
            "gridwidth": 2,
            "linecolor": "white",
            "showbackground": true,
            "ticks": "",
            "zerolinecolor": "white"
           },
           "yaxis": {
            "backgroundcolor": "#E5ECF6",
            "gridcolor": "white",
            "gridwidth": 2,
            "linecolor": "white",
            "showbackground": true,
            "ticks": "",
            "zerolinecolor": "white"
           },
           "zaxis": {
            "backgroundcolor": "#E5ECF6",
            "gridcolor": "white",
            "gridwidth": 2,
            "linecolor": "white",
            "showbackground": true,
            "ticks": "",
            "zerolinecolor": "white"
           }
          },
          "shapedefaults": {
           "line": {
            "color": "#2a3f5f"
           }
          },
          "ternary": {
           "aaxis": {
            "gridcolor": "white",
            "linecolor": "white",
            "ticks": ""
           },
           "baxis": {
            "gridcolor": "white",
            "linecolor": "white",
            "ticks": ""
           },
           "bgcolor": "#E5ECF6",
           "caxis": {
            "gridcolor": "white",
            "linecolor": "white",
            "ticks": ""
           }
          },
          "title": {
           "x": 0.05
          },
          "xaxis": {
           "automargin": true,
           "gridcolor": "white",
           "linecolor": "white",
           "ticks": "",
           "title": {
            "standoff": 15
           },
           "zerolinecolor": "white",
           "zerolinewidth": 2
          },
          "yaxis": {
           "automargin": true,
           "gridcolor": "white",
           "linecolor": "white",
           "ticks": "",
           "title": {
            "standoff": 15
           },
           "zerolinecolor": "white",
           "zerolinewidth": 2
          }
         }
        },
        "title": {
         "text": "Plot por horário do dia"
        },
        "xaxis": {
         "tickangle": -45,
         "title": {
          "text": "Horário do dia"
         }
        },
        "yaxis": {
         "title": {
          "text": "Valores aleatórios"
         }
        }
       }
      },
      "text/html": [
       "<div>                            <div id=\"b4de6f16-0f77-4c6c-8700-4b789ebd8fd7\" class=\"plotly-graph-div\" style=\"height:525px; width:100%;\"></div>            <script type=\"text/javascript\">                require([\"plotly\"], function(Plotly) {                    window.PLOTLYENV=window.PLOTLYENV || {};                                    if (document.getElementById(\"b4de6f16-0f77-4c6c-8700-4b789ebd8fd7\")) {                    Plotly.newPlot(                        \"b4de6f16-0f77-4c6c-8700-4b789ebd8fd7\",                        [{\"marker\": {\"color\": \"Black\"}, \"mode\": \"lines+text\", \"name\": \"Lines and Text\", \"text\": \"\", \"textposition\": \"top center\", \"type\": \"scatter\", \"x\": [\"00:00:00\", \"00:00:01\", \"00:00:02\", \"00:00:03\", \"00:00:04\", \"00:00:05\", \"00:00:06\", \"00:00:07\", \"00:00:08\", \"00:00:09\", \"00:00:10\", \"00:00:11\", \"00:00:12\", \"00:00:13\", \"00:00:14\", \"00:00:15\", \"00:00:16\", \"00:00:17\", \"00:00:18\", \"00:00:19\", \"00:00:20\", \"00:00:21\", \"00:00:22\", \"00:00:23\", \"00:00:24\", \"00:00:25\", \"00:00:26\", \"00:00:27\", \"00:00:28\", \"00:00:29\", \"00:00:30\", \"00:00:31\", \"00:00:32\", \"00:00:33\", \"00:00:34\", \"00:00:35\", \"00:00:36\", \"00:00:37\", \"00:00:38\", \"00:00:39\", \"00:00:40\", \"00:00:41\", \"00:00:42\", \"00:00:43\", \"00:00:44\", \"00:00:45\", \"00:00:46\", \"00:00:47\", \"00:00:48\", \"00:00:49\", \"00:00:50\", \"00:00:51\", \"00:00:52\", \"00:00:53\", \"00:00:54\", \"00:00:55\", \"00:00:56\", \"00:00:57\", \"00:00:58\", \"00:00:59\", \"00:01:00\", \"00:01:01\", \"00:01:02\", \"00:01:03\", \"00:01:04\", \"00:01:05\", \"00:01:06\", \"00:01:07\", \"00:01:08\", \"00:01:09\", \"00:01:10\", \"00:01:11\", \"00:01:12\", \"00:01:13\", \"00:01:14\", \"00:01:15\", \"00:01:16\", \"00:01:17\", \"00:01:18\", \"00:01:19\", \"00:01:20\", \"00:01:21\", \"00:01:22\", \"00:01:23\", \"00:01:24\", \"00:01:25\", \"00:01:26\", \"00:01:27\", \"00:01:28\", \"00:01:29\", \"00:01:30\", \"00:01:31\", \"00:01:32\", \"00:01:33\", \"00:01:34\", \"00:01:35\", \"00:01:36\", \"00:01:37\", \"00:01:38\", \"00:01:39\"], \"y\": [41767, 61857, 10236, 53337, 44930, 37825, 30665, 71888, 1694, 11878, 72659, 21984, 34056, 54403, 34554, 82741, 74146, 24803, 1782, 85318, 5938, 63610, 46474, 42493, 36790, 22770, 26351, 28382, 47977, 12114, 11638, 73741, 86183, 8487, 37999, 32432, 41282, 84165, 16998, 41532, 55082, 71323, 58453, 54081, 64600, 2175, 46947, 44358, 86126, 41130, 47354, 49978, 57166, 82673, 39622, 78254, 34374, 64334, 71183, 71496, 63517, 73023, 73647, 43673, 29089, 10044, 54165, 56451, 66225, 82018, 14032, 32970, 22707, 50130, 13422, 64645, 25291, 28332, 73022, 64390, 20196, 75648, 80923, 30477, 42024, 67345, 70082, 49411, 46485, 57573, 56151, 74405, 22552, 55320, 19338, 37790, 8088, 48167, 40833, 57584]}],                        {\"annotations\": [{\"arrowcolor\": \"purple\", \"arrowhead\": 3, \"arrowsize\": 3, \"arrowwidth\": 1, \"bgcolor\": \"black\", \"bordercolor\": \"yellow\", \"borderwidth\": 1, \"captureevents\": true, \"clicktoshow\": \"onoff\", \"font\": {\"color\": \"white\", \"family\": \"sans serif\", \"size\": 14}, \"hovertext\": \"Texto que aparece quando passa o mouse em cima\", \"showarrow\": true, \"text\": \"Cruzamento\", \"textangle\": -45, \"x\": \"00:00:30\", \"xclick\": true, \"y\": 46417.73, \"yanchor\": \"auto\"}], \"shapes\": [{\"line\": {\"color\": \"blue\", \"width\": 2}, \"type\": \"line\", \"x0\": \"00:00:30\", \"x1\": \"00:00:30\", \"xref\": \"x\", \"y0\": 0, \"y1\": 1, \"yref\": \"y domain\"}, {\"line\": {\"color\": \"red\", \"dash\": \"dash\", \"width\": 2}, \"type\": \"line\", \"x0\": 0, \"x1\": 1, \"xref\": \"x domain\", \"y0\": 46417.73, \"y1\": 46417.73, \"yref\": \"y\"}], \"template\": {\"data\": {\"bar\": [{\"error_x\": {\"color\": \"#2a3f5f\"}, \"error_y\": {\"color\": \"#2a3f5f\"}, \"marker\": {\"line\": {\"color\": \"#E5ECF6\", \"width\": 0.5}}, \"type\": \"bar\"}], \"barpolar\": [{\"marker\": {\"line\": {\"color\": \"#E5ECF6\", \"width\": 0.5}}, \"type\": \"barpolar\"}], \"carpet\": [{\"aaxis\": {\"endlinecolor\": \"#2a3f5f\", \"gridcolor\": \"white\", \"linecolor\": \"white\", \"minorgridcolor\": \"white\", \"startlinecolor\": \"#2a3f5f\"}, \"baxis\": {\"endlinecolor\": \"#2a3f5f\", \"gridcolor\": \"white\", \"linecolor\": \"white\", \"minorgridcolor\": \"white\", \"startlinecolor\": \"#2a3f5f\"}, \"type\": \"carpet\"}], \"choropleth\": [{\"colorbar\": {\"outlinewidth\": 0, \"ticks\": \"\"}, \"type\": \"choropleth\"}], \"contour\": [{\"colorbar\": {\"outlinewidth\": 0, \"ticks\": \"\"}, \"colorscale\": [[0.0, \"#0d0887\"], [0.1111111111111111, \"#46039f\"], [0.2222222222222222, \"#7201a8\"], [0.3333333333333333, \"#9c179e\"], [0.4444444444444444, \"#bd3786\"], [0.5555555555555556, \"#d8576b\"], [0.6666666666666666, \"#ed7953\"], [0.7777777777777778, \"#fb9f3a\"], [0.8888888888888888, \"#fdca26\"], [1.0, \"#f0f921\"]], \"type\": \"contour\"}], \"contourcarpet\": [{\"colorbar\": {\"outlinewidth\": 0, \"ticks\": \"\"}, \"type\": \"contourcarpet\"}], \"heatmap\": [{\"colorbar\": {\"outlinewidth\": 0, \"ticks\": \"\"}, \"colorscale\": [[0.0, \"#0d0887\"], [0.1111111111111111, \"#46039f\"], [0.2222222222222222, \"#7201a8\"], [0.3333333333333333, \"#9c179e\"], [0.4444444444444444, \"#bd3786\"], [0.5555555555555556, \"#d8576b\"], [0.6666666666666666, \"#ed7953\"], [0.7777777777777778, \"#fb9f3a\"], [0.8888888888888888, \"#fdca26\"], [1.0, \"#f0f921\"]], \"type\": \"heatmap\"}], \"heatmapgl\": [{\"colorbar\": {\"outlinewidth\": 0, \"ticks\": \"\"}, \"colorscale\": [[0.0, \"#0d0887\"], [0.1111111111111111, \"#46039f\"], [0.2222222222222222, \"#7201a8\"], [0.3333333333333333, \"#9c179e\"], [0.4444444444444444, \"#bd3786\"], [0.5555555555555556, \"#d8576b\"], [0.6666666666666666, \"#ed7953\"], [0.7777777777777778, \"#fb9f3a\"], [0.8888888888888888, \"#fdca26\"], [1.0, \"#f0f921\"]], \"type\": \"heatmapgl\"}], \"histogram\": [{\"marker\": {\"colorbar\": {\"outlinewidth\": 0, \"ticks\": \"\"}}, \"type\": \"histogram\"}], \"histogram2d\": [{\"colorbar\": {\"outlinewidth\": 0, \"ticks\": \"\"}, \"colorscale\": [[0.0, \"#0d0887\"], [0.1111111111111111, \"#46039f\"], [0.2222222222222222, \"#7201a8\"], [0.3333333333333333, \"#9c179e\"], [0.4444444444444444, \"#bd3786\"], [0.5555555555555556, \"#d8576b\"], [0.6666666666666666, \"#ed7953\"], [0.7777777777777778, \"#fb9f3a\"], [0.8888888888888888, \"#fdca26\"], [1.0, \"#f0f921\"]], \"type\": \"histogram2d\"}], \"histogram2dcontour\": [{\"colorbar\": {\"outlinewidth\": 0, \"ticks\": \"\"}, \"colorscale\": [[0.0, \"#0d0887\"], [0.1111111111111111, \"#46039f\"], [0.2222222222222222, \"#7201a8\"], [0.3333333333333333, \"#9c179e\"], [0.4444444444444444, \"#bd3786\"], [0.5555555555555556, \"#d8576b\"], [0.6666666666666666, \"#ed7953\"], [0.7777777777777778, \"#fb9f3a\"], [0.8888888888888888, \"#fdca26\"], [1.0, \"#f0f921\"]], \"type\": \"histogram2dcontour\"}], \"mesh3d\": [{\"colorbar\": {\"outlinewidth\": 0, \"ticks\": \"\"}, \"type\": \"mesh3d\"}], \"parcoords\": [{\"line\": {\"colorbar\": {\"outlinewidth\": 0, \"ticks\": \"\"}}, \"type\": \"parcoords\"}], \"pie\": [{\"automargin\": true, \"type\": \"pie\"}], \"scatter\": [{\"marker\": {\"colorbar\": {\"outlinewidth\": 0, \"ticks\": \"\"}}, \"type\": \"scatter\"}], \"scatter3d\": [{\"line\": {\"colorbar\": {\"outlinewidth\": 0, \"ticks\": \"\"}}, \"marker\": {\"colorbar\": {\"outlinewidth\": 0, \"ticks\": \"\"}}, \"type\": \"scatter3d\"}], \"scattercarpet\": [{\"marker\": {\"colorbar\": {\"outlinewidth\": 0, \"ticks\": \"\"}}, \"type\": \"scattercarpet\"}], \"scattergeo\": [{\"marker\": {\"colorbar\": {\"outlinewidth\": 0, \"ticks\": \"\"}}, \"type\": \"scattergeo\"}], \"scattergl\": [{\"marker\": {\"colorbar\": {\"outlinewidth\": 0, \"ticks\": \"\"}}, \"type\": \"scattergl\"}], \"scattermapbox\": [{\"marker\": {\"colorbar\": {\"outlinewidth\": 0, \"ticks\": \"\"}}, \"type\": \"scattermapbox\"}], \"scatterpolar\": [{\"marker\": {\"colorbar\": {\"outlinewidth\": 0, \"ticks\": \"\"}}, \"type\": \"scatterpolar\"}], \"scatterpolargl\": [{\"marker\": {\"colorbar\": {\"outlinewidth\": 0, \"ticks\": \"\"}}, \"type\": \"scatterpolargl\"}], \"scatterternary\": [{\"marker\": {\"colorbar\": {\"outlinewidth\": 0, \"ticks\": \"\"}}, \"type\": \"scatterternary\"}], \"surface\": [{\"colorbar\": {\"outlinewidth\": 0, \"ticks\": \"\"}, \"colorscale\": [[0.0, \"#0d0887\"], [0.1111111111111111, \"#46039f\"], [0.2222222222222222, \"#7201a8\"], [0.3333333333333333, \"#9c179e\"], [0.4444444444444444, \"#bd3786\"], [0.5555555555555556, \"#d8576b\"], [0.6666666666666666, \"#ed7953\"], [0.7777777777777778, \"#fb9f3a\"], [0.8888888888888888, \"#fdca26\"], [1.0, \"#f0f921\"]], \"type\": \"surface\"}], \"table\": [{\"cells\": {\"fill\": {\"color\": \"#EBF0F8\"}, \"line\": {\"color\": \"white\"}}, \"header\": {\"fill\": {\"color\": \"#C8D4E3\"}, \"line\": {\"color\": \"white\"}}, \"type\": \"table\"}]}, \"layout\": {\"annotationdefaults\": {\"arrowcolor\": \"#2a3f5f\", \"arrowhead\": 0, \"arrowwidth\": 1}, \"autotypenumbers\": \"strict\", \"coloraxis\": {\"colorbar\": {\"outlinewidth\": 0, \"ticks\": \"\"}}, \"colorscale\": {\"diverging\": [[0, \"#8e0152\"], [0.1, \"#c51b7d\"], [0.2, \"#de77ae\"], [0.3, \"#f1b6da\"], [0.4, \"#fde0ef\"], [0.5, \"#f7f7f7\"], [0.6, \"#e6f5d0\"], [0.7, \"#b8e186\"], [0.8, \"#7fbc41\"], [0.9, \"#4d9221\"], [1, \"#276419\"]], \"sequential\": [[0.0, \"#0d0887\"], [0.1111111111111111, \"#46039f\"], [0.2222222222222222, \"#7201a8\"], [0.3333333333333333, \"#9c179e\"], [0.4444444444444444, \"#bd3786\"], [0.5555555555555556, \"#d8576b\"], [0.6666666666666666, \"#ed7953\"], [0.7777777777777778, \"#fb9f3a\"], [0.8888888888888888, \"#fdca26\"], [1.0, \"#f0f921\"]], \"sequentialminus\": [[0.0, \"#0d0887\"], [0.1111111111111111, \"#46039f\"], [0.2222222222222222, \"#7201a8\"], [0.3333333333333333, \"#9c179e\"], [0.4444444444444444, \"#bd3786\"], [0.5555555555555556, \"#d8576b\"], [0.6666666666666666, \"#ed7953\"], [0.7777777777777778, \"#fb9f3a\"], [0.8888888888888888, \"#fdca26\"], [1.0, \"#f0f921\"]]}, \"colorway\": [\"#636efa\", \"#EF553B\", \"#00cc96\", \"#ab63fa\", \"#FFA15A\", \"#19d3f3\", \"#FF6692\", \"#B6E880\", \"#FF97FF\", \"#FECB52\"], \"font\": {\"color\": \"#2a3f5f\"}, \"geo\": {\"bgcolor\": \"white\", \"lakecolor\": \"white\", \"landcolor\": \"#E5ECF6\", \"showlakes\": true, \"showland\": true, \"subunitcolor\": \"white\"}, \"hoverlabel\": {\"align\": \"left\"}, \"hovermode\": \"closest\", \"mapbox\": {\"style\": \"light\"}, \"paper_bgcolor\": \"white\", \"plot_bgcolor\": \"#E5ECF6\", \"polar\": {\"angularaxis\": {\"gridcolor\": \"white\", \"linecolor\": \"white\", \"ticks\": \"\"}, \"bgcolor\": \"#E5ECF6\", \"radialaxis\": {\"gridcolor\": \"white\", \"linecolor\": \"white\", \"ticks\": \"\"}}, \"scene\": {\"xaxis\": {\"backgroundcolor\": \"#E5ECF6\", \"gridcolor\": \"white\", \"gridwidth\": 2, \"linecolor\": \"white\", \"showbackground\": true, \"ticks\": \"\", \"zerolinecolor\": \"white\"}, \"yaxis\": {\"backgroundcolor\": \"#E5ECF6\", \"gridcolor\": \"white\", \"gridwidth\": 2, \"linecolor\": \"white\", \"showbackground\": true, \"ticks\": \"\", \"zerolinecolor\": \"white\"}, \"zaxis\": {\"backgroundcolor\": \"#E5ECF6\", \"gridcolor\": \"white\", \"gridwidth\": 2, \"linecolor\": \"white\", \"showbackground\": true, \"ticks\": \"\", \"zerolinecolor\": \"white\"}}, \"shapedefaults\": {\"line\": {\"color\": \"#2a3f5f\"}}, \"ternary\": {\"aaxis\": {\"gridcolor\": \"white\", \"linecolor\": \"white\", \"ticks\": \"\"}, \"baxis\": {\"gridcolor\": \"white\", \"linecolor\": \"white\", \"ticks\": \"\"}, \"bgcolor\": \"#E5ECF6\", \"caxis\": {\"gridcolor\": \"white\", \"linecolor\": \"white\", \"ticks\": \"\"}}, \"title\": {\"x\": 0.05}, \"xaxis\": {\"automargin\": true, \"gridcolor\": \"white\", \"linecolor\": \"white\", \"ticks\": \"\", \"title\": {\"standoff\": 15}, \"zerolinecolor\": \"white\", \"zerolinewidth\": 2}, \"yaxis\": {\"automargin\": true, \"gridcolor\": \"white\", \"linecolor\": \"white\", \"ticks\": \"\", \"title\": {\"standoff\": 15}, \"zerolinecolor\": \"white\", \"zerolinewidth\": 2}}}, \"title\": {\"text\": \"Plot por hor\\u00e1rio do dia\"}, \"xaxis\": {\"tickangle\": -45, \"title\": {\"text\": \"Hor\\u00e1rio do dia\"}}, \"yaxis\": {\"title\": {\"text\": \"Valores aleat\\u00f3rios\"}}},                        {\"responsive\": true}                    ).then(function(){\n",
       "                            \n",
       "var gd = document.getElementById('b4de6f16-0f77-4c6c-8700-4b789ebd8fd7');\n",
       "var x = new MutationObserver(function (mutations, observer) {{\n",
       "        var display = window.getComputedStyle(gd).display;\n",
       "        if (!display || display === 'none') {{\n",
       "            console.log([gd, 'removed!']);\n",
       "            Plotly.purge(gd);\n",
       "            observer.disconnect();\n",
       "        }}\n",
       "}});\n",
       "\n",
       "// Listen for the removal of the full notebook cells\n",
       "var notebookContainer = gd.closest('#notebook-container');\n",
       "if (notebookContainer) {{\n",
       "    x.observe(notebookContainer, {childList: true});\n",
       "}}\n",
       "\n",
       "// Listen for the clearing of the current output cell\n",
       "var outputEl = gd.closest('.output');\n",
       "if (outputEl) {{\n",
       "    x.observe(outputEl, {childList: true});\n",
       "}}\n",
       "\n",
       "                        })                };                });            </script>        </div>"
      ]
     },
     "metadata": {},
     "output_type": "display_data"
    }
   ],
   "source": [
    "plot_no_dia(dataframe = df, num_amostras= 100)"
   ]
  }
 ],
 "metadata": {
  "kernelspec": {
   "display_name": "Python 3",
   "language": "python",
   "name": "python3"
  },
  "language_info": {
   "codemirror_mode": {
    "name": "ipython",
    "version": 3
   },
   "file_extension": ".py",
   "mimetype": "text/x-python",
   "name": "python",
   "nbconvert_exporter": "python",
   "pygments_lexer": "ipython3",
   "version": "3.7.1"
  }
 },
 "nbformat": 4,
 "nbformat_minor": 2
}
